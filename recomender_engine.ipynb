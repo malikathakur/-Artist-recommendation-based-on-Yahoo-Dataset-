{
 "cells": [
  {
   "cell_type": "code",
   "execution_count": 129,
   "metadata": {},
   "outputs": [],
   "source": [
    "### Music Artist Recommender Engine built with Apache Spark and Python"
   ]
  },
  {
   "cell_type": "code",
   "execution_count": 228,
   "metadata": {},
   "outputs": [],
   "source": [
    "import numpy as np\n",
    "import pandas as pd\n",
    "import seaborn as sns\n",
    "import matplotlib.pyplot as plt\n",
    "from pyspark.sql.functions import concat, col, lit\n",
    "from pyspark.ml.recommendation import ALS\n",
    "from pyspark.ml.evaluation import RegressionEvaluator\n",
    "from pyspark.ml.tuning import ParamGridBuilder, TrainValidationSplit, CrossValidator"
   ]
  },
  {
   "cell_type": "code",
   "execution_count": 229,
   "metadata": {},
   "outputs": [],
   "source": [
    "from pyspark.sql import SparkSession, SQLContext\n",
    "spark = SparkSession.builder \\\n",
    "    .master(\"yarn\") \\\n",
    "    .appName(\"AspectDetector\") \\\n",
    "    .enableHiveSupport() \\\n",
    "    .getOrCreate()\n",
    "\n",
    "sqlContext = SQLContext(spark)"
   ]
  },
  {
   "cell_type": "code",
   "execution_count": 230,
   "metadata": {},
   "outputs": [
    {
     "name": "stdout",
     "output_type": "stream",
     "text": [
      "+-------+--------+------+\n",
      "| userID|artistID|rating|\n",
      "+-------+--------+------+\n",
      "|1853593| 1022086|   100|\n",
      "|1853593| 1022153|   100|\n",
      "|1853593| 1022226|     0|\n",
      "|1853593| 1022232|   100|\n",
      "|1853593| 1023032|   100|\n",
      "+-------+--------+------+\n",
      "only showing top 5 rows\n",
      "\n"
     ]
    }
   ],
   "source": [
    "# Creating a pandas dataframe from Sample Data\n",
    "df_pd = pd.read_csv(\"arating.csv\")\n",
    "\n",
    "# Creating a Spark DataFrame from a pandas dataframe\n",
    "df_spark = sqlContext.createDataFrame(df_pd)\n",
    "\n",
    "df_spark.show(5)"
   ]
  },
  {
   "cell_type": "markdown",
   "metadata": {},
   "source": [
    "#### Load data\n",
    "Load the two datasets of music artist information and user ratings."
   ]
  },
  {
   "cell_type": "code",
   "execution_count": 231,
   "metadata": {},
   "outputs": [],
   "source": [
    "artist = spark.read.load(\"canames.csv\", format='csv', header = True)\n",
    "music = spark.read.load(\"arating.csv\", format='csv', header = True)"
   ]
  },
  {
   "cell_type": "code",
   "execution_count": 232,
   "metadata": {
    "scrolled": true
   },
   "outputs": [
    {
     "name": "stdout",
     "output_type": "stream",
     "text": [
      "+--------+--------------+\n",
      "|artistID|        artist|\n",
      "+--------+--------------+\n",
      "|    -100|Not Applicable|\n",
      "|     -99|Unknown Artist|\n",
      "| 1000001| \"Bobby \"\"O\"\"\"|\n",
      "| 1000002| \"Jimmy \"\"Z\"\"\"|\n",
      "| 1000003|  '68 Comeback|\n",
      "| 1000004|  'Til Tuesday|\n",
      "| 1000005|The (EC) Nudes|\n",
      "| 1000006|   .38 Special|\n",
      "| 1000008|         1 + 1|\n",
      "| 1000009|1 Of The Girls|\n",
      "+--------+--------------+\n",
      "only showing top 10 rows\n",
      "\n"
     ]
    }
   ],
   "source": [
    "artist = artist.select(\"artistID\", \"artist\")\n",
    "artist.show(10)"
   ]
  },
  {
   "cell_type": "code",
   "execution_count": 233,
   "metadata": {},
   "outputs": [
    {
     "name": "stdout",
     "output_type": "stream",
     "text": [
      "+-------+--------+------+\n",
      "| userID|artistID|rating|\n",
      "+-------+--------+------+\n",
      "|1853593| 1022086|   100|\n",
      "|1853593| 1022153|   100|\n",
      "|1853593| 1022226|     0|\n",
      "|1853593| 1022232|   100|\n",
      "|1853593| 1023032|   100|\n",
      "|1853593| 1023157|   100|\n",
      "|1853593| 1024006|     0|\n",
      "|1853593| 1024051|   100|\n",
      "|1853593| 1024379|    90|\n",
      "|1853593| 1024602|   100|\n",
      "+-------+--------+------+\n",
      "only showing top 10 rows\n",
      "\n"
     ]
    }
   ],
   "source": [
    "music = music.select(\"userID\", \"artistID\", \"rating\")\n",
    "music.show(10)"
   ]
  },
  {
   "cell_type": "markdown",
   "metadata": {},
   "source": [
    "#### Data processing"
   ]
  },
  {
   "cell_type": "code",
   "execution_count": 234,
   "metadata": {},
   "outputs": [],
   "source": [
    "# Reset userID, artistID and rating dtypes\n",
    "artist = artist.withColumn('artistID', artist['artistID'].cast('int'))\n",
    "music = (music.withColumn('userID', music['userID'].cast('int'))\n",
    "           .withColumn('artistID', music['artistID'].cast('int'))\n",
    "           .withColumn('rating', music['rating'].cast('float')))"
   ]
  },
  {
   "cell_type": "code",
   "execution_count": 235,
   "metadata": {},
   "outputs": [
    {
     "name": "stdout",
     "output_type": "stream",
     "text": [
      "root\n",
      " |-- userID: integer (nullable = true)\n",
      " |-- artistID: integer (nullable = true)\n",
      " |-- rating: float (nullable = true)\n",
      "\n"
     ]
    }
   ],
   "source": [
    "music.printSchema()"
   ]
  },
  {
   "cell_type": "code",
   "execution_count": 236,
   "metadata": {},
   "outputs": [
    {
     "name": "stdout",
     "output_type": "stream",
     "text": [
      "root\n",
      " |-- artistID: integer (nullable = true)\n",
      " |-- artist: string (nullable = true)\n",
      "\n"
     ]
    }
   ],
   "source": [
    "artist.printSchema()"
   ]
  },
  {
   "cell_type": "code",
   "execution_count": 237,
   "metadata": {},
   "outputs": [],
   "source": [
    "# Rating should be from 0-100, 255 implies do not play anymore\n",
    "music = music.filter(music['rating'] <= 100)"
   ]
  },
  {
   "cell_type": "code",
   "execution_count": 238,
   "metadata": {},
   "outputs": [
    {
     "name": "stdout",
     "output_type": "stream",
     "text": [
      "+-------+------------------+------------------+-----------------+\n",
      "|summary|            userID|          artistID|           rating|\n",
      "+-------+------------------+------------------+-----------------+\n",
      "|  count|            176288|            176288|           176288|\n",
      "|   mean|1855143.9346467145|1034466.7762695135|51.46423466146306|\n",
      "| stddev| 901.1489001399237| 32977.07674362838|40.38213227415712|\n",
      "|    min|           1853593|             24538|              0.0|\n",
      "|    max|           1856728|           1101719|            100.0|\n",
      "+-------+------------------+------------------+-----------------+\n",
      "\n"
     ]
    }
   ],
   "source": [
    "music.describe().show()"
   ]
  },
  {
   "cell_type": "markdown",
   "metadata": {},
   "source": [
    "#### Data Exploration\n",
    "Check the number of artists and users.\n",
    "Check the artist that with most ratings and users made most ratings."
   ]
  },
  {
   "cell_type": "code",
   "execution_count": 239,
   "metadata": {},
   "outputs": [],
   "source": [
    "top_artist = music.groupBy(\"artistID\").count().orderBy('count', ascending=False)\n",
    "top_user = music.groupBy(\"userID\").count().orderBy('count', ascending=False)\n",
    "top_artist.createOrReplaceTempView(\"top_artist\")\n",
    "top_user.createOrReplaceTempView(\"top_user\")\n",
    "artist.createOrReplaceTempView(\"artist\")"
   ]
  },
  {
   "cell_type": "code",
   "execution_count": 240,
   "metadata": {},
   "outputs": [
    {
     "name": "stdout",
     "output_type": "stream",
     "text": [
      "+--------+-----+\n",
      "|artistID|count|\n",
      "+--------+-----+\n",
      "| 1053507| 1250|\n",
      "| 1098798| 1022|\n",
      "| 1022226|  910|\n",
      "| 1037847|  902|\n",
      "| 1030879|  884|\n",
      "| 1099097|  816|\n",
      "| 1042768|  807|\n",
      "| 1017240|  786|\n",
      "| 1045704|  784|\n",
      "| 1017874|  768|\n",
      "| 1010787|  732|\n",
      "| 1014312|  697|\n",
      "| 1044487|  695|\n",
      "| 1030760|  692|\n",
      "| 1053653|  688|\n",
      "| 1043454|  675|\n",
      "| 1051565|  671|\n",
      "| 1016600|  667|\n",
      "| 1010542|  634|\n",
      "| 1003522|  633|\n",
      "+--------+-----+\n",
      "only showing top 20 rows\n",
      "\n"
     ]
    }
   ],
   "source": [
    "top_artist.show()"
   ]
  },
  {
   "cell_type": "code",
   "execution_count": 241,
   "metadata": {},
   "outputs": [
    {
     "name": "stdout",
     "output_type": "stream",
     "text": [
      "+--------+-------------------+\n",
      "|artistID|             artist|\n",
      "+--------+-------------------+\n",
      "|    -100|     Not Applicable|\n",
      "|     -99|     Unknown Artist|\n",
      "| 1000001|      \"Bobby \"\"O\"\"\"|\n",
      "| 1000002|      \"Jimmy \"\"Z\"\"\"|\n",
      "| 1000003|       '68 Comeback|\n",
      "| 1000004|       'Til Tuesday|\n",
      "| 1000005|     The (EC) Nudes|\n",
      "| 1000006|        .38 Special|\n",
      "| 1000008|              1 + 1|\n",
      "| 1000009|     1 Of The Girls|\n",
      "| 1000010|       1,000 Clowns|\n",
      "| 1000011|        10 K.A.N.'s|\n",
      "| 1000012|     10,000 Maniacs|\n",
      "| 1000013|100 Degrees Celsius|\n",
      "| 1000014|        100 Flowers|\n",
      "| 1000015|          100 Proof|\n",
      "| 1000016|      1000 Homo DJs|\n",
      "| 1000017|    1000 Mona Lisas|\n",
      "| 1000018|                101|\n",
      "| 1000019|       101 Jade 4 U|\n",
      "+--------+-------------------+\n",
      "only showing top 20 rows\n",
      "\n"
     ]
    }
   ],
   "source": [
    "artist.show()"
   ]
  },
  {
   "cell_type": "code",
   "execution_count": 242,
   "metadata": {},
   "outputs": [],
   "source": [
    "pop_artist = spark.sql(\"select artist,count \\\n",
    "                       from top_artist INNER JOIN artist \\\n",
    "                       on top_artist.artistID = artist.artistID \\\n",
    "                       order by top_artist.count desc\")"
   ]
  },
  {
   "cell_type": "code",
   "execution_count": 243,
   "metadata": {},
   "outputs": [],
   "source": [
    "pop_artist = pop_artist.selectExpr(\"artist as artist\",\"count as no_rating\")"
   ]
  },
  {
   "cell_type": "code",
   "execution_count": 244,
   "metadata": {},
   "outputs": [
    {
     "name": "stdout",
     "output_type": "stream",
     "text": [
      "+--------------------+---------+\n",
      "|              artist|no_rating|\n",
      "+--------------------+---------+\n",
      "|         Linkin Park|     1250|\n",
      "|         Evanescence|     1022|\n",
      "|Red Hot Chili Pep...|      910|\n",
      "|              Eminem|      902|\n",
      "|       Missy Elliott|      884|\n",
      "|              Chingy|      816|\n",
      "|              Staind|      807|\n",
      "|     Matchbox Twenty|      786|\n",
      "|               Nelly|      784|\n",
      "|           Metallica|      768|\n",
      "+--------------------+---------+\n",
      "only showing top 10 rows\n",
      "\n"
     ]
    }
   ],
   "source": [
    "# Show top 20 artist that have most ratings.\n",
    "pop_artist.show(10)"
   ]
  },
  {
   "cell_type": "code",
   "execution_count": 245,
   "metadata": {},
   "outputs": [],
   "source": [
    "top_pop_artist = pop_artist.select('artist').collect()"
   ]
  },
  {
   "cell_type": "code",
   "execution_count": 246,
   "metadata": {},
   "outputs": [],
   "source": [
    "artist=[]"
   ]
  },
  {
   "cell_type": "code",
   "execution_count": 247,
   "metadata": {},
   "outputs": [],
   "source": [
    "for i in range(5):\n",
    "    artist.append(top_pop_artist[i].artist)"
   ]
  },
  {
   "cell_type": "code",
   "execution_count": 248,
   "metadata": {},
   "outputs": [],
   "source": [
    "ratings = pop_artist.select('no_rating').collect()"
   ]
  },
  {
   "cell_type": "code",
   "execution_count": 249,
   "metadata": {},
   "outputs": [],
   "source": [
    "No_of_ratings=[]"
   ]
  },
  {
   "cell_type": "code",
   "execution_count": 250,
   "metadata": {},
   "outputs": [],
   "source": [
    "for i in range(5):\n",
    "    No_of_ratings.append(ratings[i].no_rating)"
   ]
  },
  {
   "cell_type": "code",
   "execution_count": 251,
   "metadata": {},
   "outputs": [
    {
     "data": {
      "text/plain": [
       "(array([0, 1, 2, 3, 4]),\n",
       " [Text(0, 0, 'Linkin Park'),\n",
       "  Text(1, 0, 'Evanescence'),\n",
       "  Text(2, 0, 'Red Hot Chili Peppers'),\n",
       "  Text(3, 0, 'Eminem'),\n",
       "  Text(4, 0, 'Missy Elliott')])"
      ]
     },
     "execution_count": 251,
     "metadata": {},
     "output_type": "execute_result"
    },
    {
     "data": {
      "image/png": "[encoded data removed]",
      "text/plain": [
       "<Figure size 432x288 with 1 Axes>"
      ]
     },
     "metadata": {
      "needs_background": "light"
     },
     "output_type": "display_data"
    }
   ],
   "source": [
    "x = np.arange(5)\n",
    "plt.bar(x, height=[No_of_ratings[0],No_of_ratings[1],No_of_ratings[2],No_of_ratings[3],No_of_ratings[4]])\n",
    "plt.xticks(x, [artist[0],artist[1],artist[2],artist[3],artist[4]])\n",
    "plt.xticks(rotation=90)"
   ]
  },
  {
   "cell_type": "code",
   "execution_count": 252,
   "metadata": {},
   "outputs": [],
   "source": [
    "top_user = top_user.selectExpr(\"userId as userid\", \"count as no_rating\")"
   ]
  },
  {
   "cell_type": "code",
   "execution_count": 253,
   "metadata": {},
   "outputs": [
    {
     "name": "stdout",
     "output_type": "stream",
     "text": [
      "+-------+---------+\n",
      "| userid|no_rating|\n",
      "+-------+---------+\n",
      "|1854922|     2844|\n",
      "|1855309|     2127|\n",
      "|1853843|     1888|\n",
      "|1853729|     1866|\n",
      "|1856495|     1337|\n",
      "|1855876|     1198|\n",
      "|1855470|     1065|\n",
      "|1855600|     1035|\n",
      "|1855758|      923|\n",
      "|1855920|      910|\n",
      "+-------+---------+\n",
      "only showing top 10 rows\n",
      "\n"
     ]
    }
   ],
   "source": [
    "top_user.show(10)"
   ]
  },
  {
   "cell_type": "code",
   "execution_count": 254,
   "metadata": {},
   "outputs": [],
   "source": [
    "Most_Fre_userid = top_user.select('userID').collect()"
   ]
  },
  {
   "cell_type": "code",
   "execution_count": 255,
   "metadata": {},
   "outputs": [],
   "source": [
    "user_id=[]"
   ]
  },
  {
   "cell_type": "code",
   "execution_count": 256,
   "metadata": {},
   "outputs": [],
   "source": [
    "for i in range(5):\n",
    "    user_id.append(Most_Fre_userid[i].userID)"
   ]
  },
  {
   "cell_type": "code",
   "execution_count": 257,
   "metadata": {},
   "outputs": [],
   "source": [
    "Most_Fre_no_rating = top_user.select('no_rating').collect()"
   ]
  },
  {
   "cell_type": "code",
   "execution_count": 258,
   "metadata": {},
   "outputs": [],
   "source": [
    "No_of_ratings=[]"
   ]
  },
  {
   "cell_type": "code",
   "execution_count": 259,
   "metadata": {},
   "outputs": [],
   "source": [
    "for i in range(5):\n",
    "    No_of_ratings.append(Most_Fre_no_rating[i].no_rating)"
   ]
  },
  {
   "cell_type": "code",
   "execution_count": 260,
   "metadata": {},
   "outputs": [
    {
     "data": {
      "text/plain": [
       "([<matplotlib.axis.XTick at 0x7f3f8dfd4610>,\n",
       "  <matplotlib.axis.XTick at 0x7f3f8dfd4cd0>,\n",
       "  <matplotlib.axis.XTick at 0x7f3f8e75e160>,\n",
       "  <matplotlib.axis.XTick at 0x7f3f8e544c10>,\n",
       "  <matplotlib.axis.XTick at 0x7f3f8e550160>],\n",
       " [Text(0, 0, '1854922'),\n",
       "  Text(1, 0, '1855309'),\n",
       "  Text(2, 0, '1853843'),\n",
       "  Text(3, 0, '1853729'),\n",
       "  Text(4, 0, '1856495')])"
      ]
     },
     "execution_count": 260,
     "metadata": {},
     "output_type": "execute_result"
    },
    {
     "data": {
      "image/png": "[encoded data removed]",
      "text/plain": [
       "<Figure size 432x288 with 1 Axes>"
      ]
     },
     "metadata": {
      "needs_background": "light"
     },
     "output_type": "display_data"
    }
   ],
   "source": [
    "x = np.arange(5)\n",
    "plt.bar(x, height=[No_of_ratings[0],No_of_ratings[1],No_of_ratings[2],No_of_ratings[3],No_of_ratings[4]])\n",
    "plt.xticks(x, [user_id[0],user_id[1],user_id[2],user_id[3],user_id[4]])"
   ]
  },
  {
   "cell_type": "code",
   "execution_count": 261,
   "metadata": {},
   "outputs": [
    {
     "name": "stdout",
     "output_type": "stream",
     "text": [
      "2060 out of 8555 artist with one rating\n",
      "320 out of 3135 user rate one artist\n"
     ]
    }
   ],
   "source": [
    "temp1 = sum(music.groupBy(\"artistID\").count().toPandas()['count'] == 1)\n",
    "temp2 = music.select('artistID').distinct().count()\n",
    "print ('{} out of {} artist with one rating'.format(temp1, temp2))\n",
    "temp3 = sum(music.groupBy(\"userID\").count().toPandas()['count'] == 1)\n",
    "temp4 = music.select('userID').distinct().count()\n",
    "print ('{} out of {} user rate one artist'.format(temp3, temp4))"
   ]
  },
  {
   "cell_type": "markdown",
   "metadata": {},
   "source": [
    "#### Split data into train and test."
   ]
  },
  {
   "cell_type": "code",
   "execution_count": 73,
   "metadata": {},
   "outputs": [
    {
     "data": {
      "text/plain": [
       "DataFrame[userID: int, artistID: int, rating: float]"
      ]
     },
     "execution_count": 73,
     "metadata": {},
     "output_type": "execute_result"
    }
   ],
   "source": [
    "# The datasets will be repeatedly used, persist them in memory using the cache function\n",
    "train, test = music.randomSplit([0.8, 0.2], seed=1234)\n",
    "train.cache()\n",
    "test.cache()"
   ]
  },
  {
   "cell_type": "markdown",
   "metadata": {},
   "source": [
    "#### Build the recommender model using ALS"
   ]
  },
  {
   "cell_type": "code",
   "execution_count": 74,
   "metadata": {},
   "outputs": [],
   "source": [
    "# If the rating matrix is derived from another source of information, you can set implicitPrefs to True to get better results.\n",
    "als = ALS(userCol='userID', itemCol='artistID', ratingCol='rating', coldStartStrategy='drop')"
   ]
  },
  {
   "cell_type": "code",
   "execution_count": 75,
   "metadata": {},
   "outputs": [],
   "source": [
    "# A CrossValidator requires an Estimator, a set of Estimator ParamMaps, and an Evaluator.\n",
    "# We use a ParamGridBuilder to construct a grid of parameters to search over.\n",
    "# this grid will have 2 x 5 x 4 = 40 parameter settings for CrossValidator to choose from.\n",
    "paramGrid = ParamGridBuilder()\\\n",
    "    .addGrid(als.maxIter, [5, 10]) \\\n",
    "    .addGrid(als.regParam, [0.05, 0.1, 0.2, 0.4, 0.8])\\\n",
    "    .addGrid(als.rank, [6, 8, 10, 12])\\\n",
    "    .build()"
   ]
  },
  {
   "cell_type": "code",
   "execution_count": 76,
   "metadata": {},
   "outputs": [],
   "source": [
    "crossval = CrossValidator(estimator=als,\n",
    "                          estimatorParamMaps=paramGrid,\n",
    "                          evaluator=RegressionEvaluator(metricName=\"rmse\", labelCol=\"rating\",\n",
    "                          predictionCol=\"prediction\"),\n",
    "                          numFolds=2)"
   ]
  },
  {
   "cell_type": "code",
   "execution_count": 77,
   "metadata": {},
   "outputs": [],
   "source": [
    "# Run cross-validation, and choose the best set of parameters.\n",
    "cvModel = crossval.fit(train)"
   ]
  },
  {
   "cell_type": "code",
   "execution_count": 78,
   "metadata": {},
   "outputs": [],
   "source": [
    "bestModel = cvModel.bestModel"
   ]
  },
  {
   "cell_type": "code",
   "execution_count": 79,
   "metadata": {},
   "outputs": [
    {
     "name": "stdout",
     "output_type": "stream",
     "text": [
      "+-------+--------+------+-----------+\n",
      "| userID|artistID|rating| prediction|\n",
      "+-------+--------+------+-----------+\n",
      "|1854678| 1001043|   0.0|-0.18345305|\n",
      "|1855505| 1001043|  90.0|  7.9846654|\n",
      "|1855920| 1001043|   0.0| -0.6338692|\n",
      "|1855789| 1010495|   0.0|  1.9587995|\n",
      "|1855794| 1010495|  90.0|   20.03146|\n",
      "+-------+--------+------+-----------+\n",
      "only showing top 5 rows\n",
      "\n"
     ]
    }
   ],
   "source": [
    "# Make predictions on test data. model is the model with combination of parameters that performed best.\n",
    "predictions = bestModel.transform(test)\n",
    "predictions.show(5)"
   ]
  },
  {
   "cell_type": "code",
   "execution_count": 80,
   "metadata": {},
   "outputs": [],
   "source": [
    "evaluator = RegressionEvaluator(metricName=\"rmse\", labelCol=\"rating\",\n",
    "                                predictionCol=\"prediction\")\n",
    "rmse_test = evaluator.evaluate(predictions)"
   ]
  },
  {
   "cell_type": "code",
   "execution_count": 81,
   "metadata": {},
   "outputs": [
    {
     "data": {
      "text/plain": [
       "27.3257664434161"
      ]
     },
     "execution_count": 81,
     "metadata": {},
     "output_type": "execute_result"
    }
   ],
   "source": [
    "# RMSE of the testing dataset\n",
    "rmse_test"
   ]
  },
  {
   "cell_type": "markdown",
   "metadata": {},
   "source": [
    "Compare the RMSE of ALS model with the benchmark results using mean rating of each artist as the prediction."
   ]
  },
  {
   "cell_type": "code",
   "execution_count": 82,
   "metadata": {
    "collapsed": true
   },
   "outputs": [
    {
     "name": "stdout",
     "output_type": "stream",
     "text": [
      "+--------+------------------+\n",
      "|artistID|        prediction|\n",
      "+--------+------------------+\n",
      "| 1030666|  65.8559670781893|\n",
      "| 1098571| 31.21951219512195|\n",
      "| 1053349|47.529411764705884|\n",
      "| 1053407|  70.8671679197995|\n",
      "| 1100657|50.564516129032256|\n",
      "+--------+------------------+\n",
      "only showing top 5 rows\n",
      "\n"
     ]
    }
   ],
   "source": [
    "mean_df = train.groupby('artistId').mean().select('artistID','avg(rating)')\n",
    "mean_df = mean_df.withColumnRenamed('avg(rating)','prediction')\n",
    "mean_df.show(5)"
   ]
  },
  {
   "cell_type": "code",
   "execution_count": 83,
   "metadata": {},
   "outputs": [],
   "source": [
    "test.createOrReplaceTempView(\"test\")\n",
    "mean_df.createOrReplaceTempView(\"mean_df\")\n",
    "mean_sql = spark.sql(\"select test.*, mean_df.prediction \\\n",
    "                       from test join mean_df \\\n",
    "                       on test.artistID = mean_df.artistID\")"
   ]
  },
  {
   "cell_type": "code",
   "execution_count": 84,
   "metadata": {},
   "outputs": [
    {
     "data": {
      "text/plain": [
       "37.057870106590855"
      ]
     },
     "execution_count": 84,
     "metadata": {},
     "output_type": "execute_result"
    }
   ],
   "source": [
    "# RMSE of mean ratings\n",
    "rmse_mean = evaluator.evaluate(mean_sql)\n",
    "rmse_mean"
   ]
  },
  {
   "cell_type": "markdown",
   "metadata": {},
   "source": [
    "ALS model has RMSE much less than using mean rating as prediction."
   ]
  },
  {
   "cell_type": "markdown",
   "metadata": {},
   "source": [
    "#### Make recommendations for a selected user"
   ]
  },
  {
   "cell_type": "code",
   "execution_count": 85,
   "metadata": {},
   "outputs": [
    {
     "name": "stdout",
     "output_type": "stream",
     "text": [
      "+-------+\n",
      "| userID|\n",
      "+-------+\n",
      "|1853815|\n",
      "+-------+\n",
      "\n"
     ]
    }
   ],
   "source": [
    "# Generate top 10 user recommendations for a specified set of movies\n",
    "users = music.select(als.getUserCol()).distinct().limit(1)\n",
    "userSubsetRecs = bestModel.recommendForUserSubset(users, 10)\n",
    "users.show()"
   ]
  },
  {
   "cell_type": "code",
   "execution_count": 86,
   "metadata": {},
   "outputs": [
    {
     "name": "stdout",
     "output_type": "stream",
     "text": [
      "+--------+--------------------+\n",
      "|artistID|              artist|\n",
      "+--------+--------------------+\n",
      "| 1001178|       Archer & Park|\n",
      "| 1002674|        Biggy Smallz|\n",
      "| 1018845|         The Muppets|\n",
      "| 1024086|        Shades Apart|\n",
      "| 1028102|         Vanessa-Mae|\n",
      "| 1031292|          Animaniacs|\n",
      "| 1033789|         Sean Lennon|\n",
      "| 1042975|Hedwig & The Angr...|\n",
      "| 1069823|          Stillframe|\n",
      "| 1100636|The Jessica Fletc...|\n",
      "+--------+--------------------+\n",
      "\n"
     ]
    }
   ],
   "source": [
    "userSubsetRecs = userSubsetRecs.toPandas()\n",
    "ans = []\n",
    "for i in range(10):\n",
    "  ans.append(userSubsetRecs[['recommendations']].iloc[0,0][i][0])\n",
    "artist.where(col(\"artistID\").isin(ans)).show()"
   ]
  },
  {
   "cell_type": "code",
   "execution_count": 38,
   "metadata": {},
   "outputs": [],
   "source": []
  }
 ],
 "metadata": {
  "kernelspec": {
   "display_name": "Python 3",
   "language": "python",
   "name": "python3"
  },
  "language_info": {
   "codemirror_mode": {
    "name": "ipython",
    "version": 3
   },
   "file_extension": ".py",
   "mimetype": "text/x-python",
   "name": "python",
   "nbconvert_exporter": "python",
   "pygments_lexer": "ipython3",
   "version": "3.8.6"
  },
  "name": "music-artist-recommender-engine",
  "notebookId": 1109940025411178
 },
 "nbformat": 4,
 "nbformat_minor": 1
}
